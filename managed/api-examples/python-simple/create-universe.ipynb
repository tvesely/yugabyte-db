{
 "cells": [
  {
   "cell_type": "markdown",
   "id": "d1adba57",
   "metadata": {},
   "source": [
    "### Setup\n",
    "\n",
    "First, import the required packages.\n",
    "\n",
    "Next, specify some important variables:\n",
    "* `platform_address`: The address of the Yugabyte Platform API\n",
    "* `platform_api_key`: The API key used to authenticate with the Platform API\n",
    "\n",
    "Finally, open a HTTP connection to the Yugabyte Platform API."
   ]
  },
  {
   "cell_type": "code",
   "execution_count": 55,
   "id": "f3538bac",
   "metadata": {},
   "outputs": [],
   "source": [
    "import os\n",
    "import http.client\n",
    "import json\n",
    "from pprint import pprint\n",
    "\n",
    "platform_address = os.getenv('API_BASE_URL', \"portal.dev.yugabyte.com\")\n",
    "platform_api_key = os.getenv('YB_API_KEY')\n",
    "\n",
    "conn = http.client.HTTPConnection(f\"{platform_address}\")\n",
    "\n",
    "headers = {\n",
    "  'Content-Type': \"application/json\",\n",
    "  'X-AUTH-YW-API-TOKEN': f\"{platform_api_key}\"\n",
    "}"
   ]
  },
  {
   "cell_type": "markdown",
   "id": "9b8eaa01",
   "metadata": {},
   "source": [
    "### Get Session Info\n",
    "\n",
    "Make an API call to session endpoint to determine customer UUID."
   ]
  },
  {
   "cell_type": "code",
   "execution_count": 56,
   "id": "1ff7db63",
   "metadata": {},
   "outputs": [
    {
     "name": "stdout",
     "output_type": "stream",
     "text": [
      "Customer UUID:\n",
      "11d78d93-1381-4d1d-8393-ba76f47ba7a6\n"
     ]
    }
   ],
   "source": [
    "conn.request(\"GET\", \"/api/v1/session_info\", headers=headers)\n",
    "\n",
    "res = conn.getresponse()\n",
    "data = res.read()\n",
    "session_info = json.loads(data)\n",
    "customer_uuid = session_info['customerUUID']\n",
    "\n",
    "print('Customer UUID:\\n%s' % customer_uuid)"
   ]
  },
  {
   "cell_type": "markdown",
   "id": "cdfd92f5",
   "metadata": {},
   "source": [
    "### Get Provider UUID By Name\n",
    "\n",
    "Make an API call to the provider endpoint to determine provider UUID and regions."
   ]
  },
  {
   "cell_type": "code",
   "execution_count": 43,
   "id": "58aa5169",
   "metadata": {},
   "outputs": [
    {
     "name": "stdout",
     "output_type": "stream",
     "text": [
      "Provider UUID:\n",
      "3ef96e2b-4940-407a-ae55-e13971285791\n",
      "Regions:\n",
      "[3b93d3c3-dae2-4f92-95b6-603ea0662d5f]\n"
     ]
    }
   ],
   "source": [
    "provider_name = 'my-aws-provider' # my-gcp-rovider \n",
    "url = f\"/api/v1/customers/{customer_uuid}/providers\"\n",
    "conn.request(\"GET\", url, headers=headers)\n",
    "res = conn.getresponse()\n",
    "\n",
    "provider_list = json.load(res)\n",
    "for provider in provider_list:\n",
    "    if provider['name'] == provider_name and provider['active'] == True:\n",
    "        provider_uuid = provider['uuid']\n",
    "        region_list = [region['uuid'] for region in provider['regions']]\n",
    "        break\n",
    "\n",
    "print('Provider UUID:\\n%s' % provider_uuid)\n",
    "print('Regions:\\n[%s]' % ', '.join(region_list))"
   ]
  },
  {
   "cell_type": "markdown",
   "id": "9e83f01a",
   "metadata": {},
   "source": [
    "### Get Access Key\n",
    "\n",
    "Make an API call to the access key endpoint to determine access key for provider."
   ]
  },
  {
   "cell_type": "code",
   "execution_count": 44,
   "id": "190f8655",
   "metadata": {
    "tags": []
   },
   "outputs": [
    {
     "name": "stdout",
     "output_type": "stream",
     "text": [
      "Access Key:\n",
      "yb-15-my-aws-provider_3ef96e2b-4940-407a-ae55-e13971285791-key\n"
     ]
    }
   ],
   "source": [
    "url = f\"/api/v1/customers/{customer_uuid}/providers/{provider_uuid}/access_keys\"\n",
    "conn.request(\"GET\", url, headers=headers)\n",
    "res = conn.getresponse()\n",
    "\n",
    "access_key_list = json.load(res)\n",
    "access_key_code = access_key_list[0]['idKey']['keyCode']\n",
    "print('Access Key:\\n%s' % access_key_code)"
   ]
  },
  {
   "cell_type": "markdown",
   "id": "8276263c-e47f-4716-a91d-5f12d6bccbe1",
   "metadata": {
    "tags": []
   },
   "source": [
    "### Get Instance Types Available\n",
    "\n",
    "Make an API call to see the instance types available for the provider."
   ]
  },
  {
   "cell_type": "code",
   "execution_count": 60,
   "id": "575c5cf1-80ce-4b76-9528-4a3464fc5c30",
   "metadata": {},
   "outputs": [
    {
     "name": "stdout",
     "output_type": "stream",
     "text": [
      "m6g.xlarge\n",
      "m6g.12xlarge\n",
      "c5d.18xlarge\n",
      "c5.12xlarge\n",
      "m6g.large\n",
      "c4.large\n",
      "c5d.2xlarge\n",
      "c5.4xlarge\n",
      "i3.8xlarge\n",
      "i3.4xlarge\n",
      "c5.24xlarge\n",
      "c4.4xlarge\n",
      "c4.xlarge\n",
      "c4.2xlarge\n",
      "m6g.2xlarge\n",
      "c5d.large\n",
      "c5.2xlarge\n",
      "c5d.12xlarge\n",
      "i3.large\n",
      "m6g.4xlarge\n",
      "c5.large\n",
      "^^^^^^^ Found !!!!!!!!!!!\n",
      "{'tenancy': 'Shared',\n",
      " 'volumeDetailsList': [{'mountPath': '/mnt/d0',\n",
      "                        'volumeSizeGB': 250,\n",
      "                        'volumeType': 'EBS'}]}\n"
     ]
    }
   ],
   "source": [
    "url = f\"/api/v1/customers/{customer_uuid}/providers/{provider_uuid}/instance_types\"\n",
    "conn.request(\"GET\", url, headers=headers)\n",
    "res = conn.getresponse()\n",
    "\n",
    "instance_type = None\n",
    "for i in json.load(res):\n",
    "    print(i['instanceTypeCode'])\n",
    "    if i['instanceTypeCode'] in ['c5.large', 'n1-standard-1']: # desired aws or gcp type code\n",
    "        print('^^^^^^^ Found !!!!!!!!!!!')\n",
    "        instance_type = i\n",
    "        break\n",
    "\n",
    "pprint(instance_type['instanceTypeDetails'])"
   ]
  },
  {
   "cell_type": "markdown",
   "id": "0d92d762",
   "metadata": {},
   "source": [
    "### Define Universe\n",
    "\n",
    "In this example, we will create a GCP universe. Define a `Universe` object with the desired configuration."
   ]
  },
  {
   "cell_type": "code",
   "execution_count": 59,
   "id": "9db7ede3",
   "metadata": {
    "tags": []
   },
   "outputs": [],
   "source": [
    "new_universe = {\n",
    "    'clusters': [\n",
    "        {\n",
    "            'clusterType': 'PRIMARY',\n",
    "            'userIntent': {\n",
    "                'universeName': 'my-aws-universe', # or my-gcp-universe\n",
    "                'providerType': 'aws',\n",
    "                'provider': provider_uuid,\n",
    "                'regionList': region_list,\n",
    "                'numNodes': 3,\n",
    "                'replicationFactor': 3,\n",
    "                'instanceType': instance_type['instanceTypeCode'],\n",
    "                'deviceInfo': {\n",
    "                    'numVolumes': 1,\n",
    "                    'volumeSize': instance_type['instanceTypeDetails']['volumeDetailsList'][0]['volumeSizeGB'],\n",
    "                    'storageType': 'GP2', # 'storageType': 'Persistent',\n",
    "                },\n",
    "                'assignPublicIP': True,\n",
    "                'useTimeSync': True,\n",
    "                'enableYSQL': True,\n",
    "                'enableYEDIS': False,\n",
    "                'enableNodeToNodeEncrypt': True,\n",
    "                'enableClientToNodeEncrypt': True,\n",
    "                'enableVolumeEncryption': False,\n",
    "                'ybSoftwareVersion': '2.7.3.0-b80',\n",
    "                'accessKeyCode': access_key_code,\n",
    "                'tserverGFlags': {},\n",
    "                'masterGFlags': {},\n",
    "            }\n",
    "        },\n",
    "    ],\n",
    "}"
   ]
  },
  {
   "cell_type": "markdown",
   "id": "43d748de",
   "metadata": {},
   "source": [
    "### Create Universe\n",
    "\n",
    "Make API call to create new universe."
   ]
  },
  {
   "cell_type": "code",
   "execution_count": 58,
   "id": "cefb6e03",
   "metadata": {},
   "outputs": [
    {
     "name": "stdout",
     "output_type": "stream",
     "text": [
      "{'resourceUUID': '8343ceac-a465-41fa-b509-dd584c312ad6',\n",
      " 'taskUUID': '440d36f0-8579-4d40-91d6-b81bdbe3a087'}\n"
     ]
    }
   ],
   "source": [
    "url = f\"/api/v1/customers/{customer_uuid}/universes/clusters\"\n",
    "conn.request(\"POST\", url, json.dumps(new_universe), headers)\n",
    "res = conn.getresponse()\n",
    "pprint(json.load(res))"
   ]
  }
 ],
 "metadata": {
  "interpreter": {
   "hash": "31f2aee4e71d21fbe5cf8b01ff0e069b9275f58929596ceb00d14d90e3e16cd6"
  },
  "kernelspec": {
   "display_name": "Python 3 (ipykernel)",
   "language": "python",
   "name": "python3"
  },
  "language_info": {
   "codemirror_mode": {
    "name": "ipython",
    "version": 3
   },
   "file_extension": ".py",
   "mimetype": "text/x-python",
   "name": "python",
   "nbconvert_exporter": "python",
   "pygments_lexer": "ipython3",
   "version": "3.8.5"
  }
 },
 "nbformat": 4,
 "nbformat_minor": 5
}
