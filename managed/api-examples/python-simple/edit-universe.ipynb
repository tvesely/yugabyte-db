{
 "cells": [
  {
   "cell_type": "markdown",
   "id": "3296f233-c605-473b-9528-bed63e291763",
   "metadata": {},
   "source": [
    "# Edit Universe\n",
    "We will expand primary cluster in existing universe by increasing numer of nodes in the primary cluster\n",
    "\n",
    "### Setup\n",
    "\n",
    "First, import the required packages.\n",
    "\n",
    "Next, specify some important variables:\n",
    "* `platform_address`: The address of the Yugabyte Platform API\n",
    "* `platform_api_key`: The API key used to authenticate with the Platform API\n",
    "\n",
    "Finally, open a HTTP connection to the Yugabyte Platform API."
   ]
  },
  {
   "cell_type": "code",
   "execution_count": 9,
   "id": "f26c8e19-36c3-4766-a2a0-ea21891d0ab8",
   "metadata": {},
   "outputs": [],
   "source": [
    "import os\n",
    "import http.client\n",
    "import json\n",
    "from pprint import pprint\n",
    "\n",
    "platform_address = os.getenv('API_BASE_URL', \"portal.dev.yugabyte.com\")\n",
    "platform_api_key = os.getenv('YB_API_KEY')\n",
    "\n",
    "conn = http.client.HTTPConnection(f\"{platform_address}\")\n",
    "\n",
    "headers = {\n",
    "  'Content-Type': \"application/json\",\n",
    "  'X-AUTH-YW-API-TOKEN': f\"{platform_api_key}\"\n",
    "}"
   ]
  },
  {
   "cell_type": "markdown",
   "id": "c4f3005f-7aac-4238-afae-76c20bab4020",
   "metadata": {},
   "source": [
    "### Get Session Info\n",
    "\n",
    "Make an API call to session endpoint to determine customer UUID."
   ]
  },
  {
   "cell_type": "code",
   "execution_count": 10,
   "id": "7b98f0a9-74c7-4d88-a15d-21a7dc91e3d8",
   "metadata": {},
   "outputs": [
    {
     "name": "stdout",
     "output_type": "stream",
     "text": [
      "Customer UUID:\n",
      "11d78d93-1381-4d1d-8393-ba76f47ba7a6\n"
     ]
    }
   ],
   "source": [
    "conn.request(\"GET\", \"/api/v1/session_info\", headers=headers)\n",
    "\n",
    "res = conn.getresponse()\n",
    "data = res.read()\n",
    "session_info = json.loads(data)\n",
    "customer_uuid = session_info['customerUUID']\n",
    "\n",
    "print('Customer UUID:\\n%s' % customer_uuid)"
   ]
  },
  {
   "cell_type": "markdown",
   "id": "bc57ec1d-0ede-4e59-a9ed-f3ebb89fe9dc",
   "metadata": {
    "tags": []
   },
   "source": [
    "### GET Universe By Name\n",
    "The way to do it is list universes with `name` query parameter:"
   ]
  },
  {
   "cell_type": "code",
   "execution_count": 11,
   "id": "04333347-bbaa-4ae3-9e63-ae14879b01c6",
   "metadata": {
    "tags": []
   },
   "outputs": [],
   "source": [
    "universe_uuid = \"303cf5ac-a6f5-492b-b68c-7d4d9633c4cc\" # or ybTask.resourceUUID\n",
    "url = f\"/api/v1/customers/{customer_uuid}/universes?name=my-gcp-universe\"\n",
    "conn.request(\"GET\", url, headers=headers)\n",
    "res = conn.getresponse()\n",
    "the_universe = json.load(res)[0]\n",
    "# pprint(the_universe['universeDetails'])"
   ]
  },
  {
   "cell_type": "markdown",
   "id": "00a2a92d-bf6a-40e6-b688-bfeb67a30499",
   "metadata": {
    "tags": []
   },
   "source": [
    "### Update Universe\n",
    "\n",
    "Make API call to update the newly created universe."
   ]
  },
  {
   "cell_type": "code",
   "execution_count": 7,
   "id": "012edaac-62fa-454c-bee4-0cb421c05db1",
   "metadata": {
    "tags": []
   },
   "outputs": [
    {
     "name": "stdout",
     "output_type": "stream",
     "text": [
      "200\n",
      "{'resourceUUID': '470840d0-fe78-4552-924e-ff61b1d16c7d',\n",
      " 'taskUUID': '5030a5f9-7138-40cc-988e-0894694df673'}\n"
     ]
    }
   ],
   "source": [
    "new_universe = the_universe['universeDetails']\n",
    "new_universe['clusters'][0]['userIntent']['numNodes'] = new_universe['clusters'][0]['userIntent']['numNodes'] + 2\n",
    "url = f\"/api/v1/customers/{customer_uuid}/universes/{the_universe['universeUUID']}/clusters/primary\"\n",
    "conn.request(\"PUT\", url, json.dumps(new_universe), headers)\n",
    "res = conn.getresponse()\n",
    "print(res.status)\n",
    "pprint(json.load(res))"
   ]
  }
 ],
 "metadata": {
  "kernelspec": {
   "display_name": "Python 3 (ipykernel)",
   "language": "python",
   "name": "python3"
  },
  "language_info": {
   "codemirror_mode": {
    "name": "ipython",
    "version": 3
   },
   "file_extension": ".py",
   "mimetype": "text/x-python",
   "name": "python",
   "nbconvert_exporter": "python",
   "pygments_lexer": "ipython3",
   "version": "3.8.5"
  }
 },
 "nbformat": 4,
 "nbformat_minor": 5
}
