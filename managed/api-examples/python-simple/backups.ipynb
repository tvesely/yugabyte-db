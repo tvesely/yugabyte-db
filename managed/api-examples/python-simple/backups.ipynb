{
 "cells": [
  {
   "cell_type": "markdown",
   "metadata": {},
   "source": [
    "# Backups\n",
    "### Boilerplate - Get session Info\n",
    "- Using API key make a request get ascociated `session_info` \n",
    "- `session_info` contains current user and current customer uuid."
   ]
  },
  {
   "cell_type": "code",
   "execution_count": 136,
   "metadata": {},
   "outputs": [
    {
     "name": "stdout",
     "output_type": "stream",
     "text": [
      "{'apiToken': '753aef54-8fbb-442d-a063-e41b3a62b7e2',\n",
      " 'customerUUID': '11d78d93-1381-4d1d-8393-ba76f47ba7a6',\n",
      " 'userUUID': '52bce00c-dd1b-dcd7-0821-b8070a7173c5'}\n"
     ]
    }
   ],
   "source": [
    "import http.client\n",
    "import json\n",
    "import os\n",
    "from pprint import pprint\n",
    "\n",
    "platform_api_key = os.getenv('YB_API_KEY')\n",
    "platform_address = os.getenv('API_BASE_URL', \"portal.dev.yugabyte.com\")\n",
    "\n",
    "conn = http.client.HTTPConnection(f\"{platform_address}\")\n",
    "\n",
    "headers = {\n",
    "  'Content-Type': \"application/json\",\n",
    "  'X-AUTH-YW-API-TOKEN': f\"{platform_api_key}\"\n",
    "}\n",
    "\n",
    "conn.request(\"GET\", \"/api/v1/session_info\", headers=headers)\n",
    "\n",
    "res = conn.getresponse()\n",
    "data = res.read()\n",
    "session_info = json.loads(data)\n",
    "pprint(session_info)"
   ]
  },
  {
   "cell_type": "markdown",
   "metadata": {},
   "source": [
    "#### Storage Configuration Parameter\n",
    "- Now pick a storage config you want to use to store the backups.\n",
    "See `./list-customer-config.ipynb` for how to list all configs"
   ]
  },
  {
   "cell_type": "code",
   "execution_count": 137,
   "metadata": {},
   "outputs": [],
   "source": [
    "storage_config_uuid = os.getenv('STORAGE_CONF_UUID',\n",
    "                                \"f5cfe9fb-cd4f-46e7-8ed8-af285b730cc0\")"
   ]
  },
  {
   "cell_type": "markdown",
   "metadata": {},
   "source": [
    "#### Universe UUID Parameter\n",
    "uuid of universe to be backed up. See `list-universes.ipynb` for how to"
   ]
  },
  {
   "cell_type": "code",
   "execution_count": 138,
   "metadata": {},
   "outputs": [],
   "source": [
    "universe_uuid = os.getenv('UNIVERSE_UUID',\n",
    "                          \"303cf5ac-a6f5-492b-b68c-7d4d9633c4cc\")"
   ]
  },
  {
   "cell_type": "markdown",
   "metadata": {},
   "source": [
    "### Create one-time (i.e. unscheduled) Whole Universe Backup\n",
    "- delete (garbage collect) backup after 10 days (864000000 ms)"
   ]
  },
  {
   "cell_type": "code",
   "execution_count": 128,
   "metadata": {},
   "outputs": [
    {
     "name": "stdout",
     "output_type": "stream",
     "text": [
      "{'taskUUID': '4c66a198-bcc7-4b24-973d-1289654a1b92'}\n"
     ]
    }
   ],
   "source": [
    "\n",
    "payload = ('{\\n'\n",
    "           '  \"actionType\": \"CREATE\",\\n'\n",
    "           '  \"keyspace\": \"postgres\",\\n'\n",
    "           f'  \"storageConfigUUID\": \"{storage_config_uuid}\",\\n'\n",
    "           '  \"timeBeforeDelete\": \"864000000\",\\n'\n",
    "           '  \"sse\": \"false\",\\n'\n",
    "           '  \"transactionalBackup\": \"false\",\\n'\n",
    "           '  \"parallelism\": \"8\",\\n'\n",
    "           '  \"backupType\": \"PGSQL_TABLE_TYPE\"\\n'\n",
    "           '}')\n",
    "\n",
    "url = f\"/api/v1/customers/{session_info.get('customerUUID')}\" \\\n",
    "      f\"/universes/{universe_uuid}/multi_table_backup\"\n",
    "conn.request(\"PUT\", url, payload, headers)\n",
    "\n",
    "res = conn.getresponse()\n",
    "yb_task = json.load(res)\n",
    "pprint(yb_task)"
   ]
  },
  {
   "cell_type": "markdown",
   "metadata": {},
   "source": [
    "### List tables"
   ]
  },
  {
   "cell_type": "markdown",
   "metadata": {},
   "source": [
    "#### table_name\n",
    "- We assume that you have created table with name \"cassandrakeyvalue\" using [yb-sample-app](https://github.com/yugabyte/yb-sample-apps)"
   ]
  },
  {
   "cell_type": "code",
   "execution_count": 155,
   "metadata": {},
   "outputs": [],
   "source": [
    "table_name = \"cassandrakeyvalue\""
   ]
  },
  {
   "cell_type": "markdown",
   "metadata": {},
   "source": [
    "#### table_name\n",
    "- We will list tables and get the uuid of table with name \"cassandrakeyvalue\""
   ]
  },
  {
   "cell_type": "code",
   "execution_count": 156,
   "metadata": {},
   "outputs": [
    {
     "name": "stdout",
     "output_type": "stream",
     "text": [
      "{'isIndexTable': False,\n",
      " 'keySpace': 'ybdemo_keyspace',\n",
      " 'relationType': 'USER_TABLE_RELATION',\n",
      " 'sizeBytes': 12320595.0,\n",
      " 'tableName': 'cassandrakeyvalue',\n",
      " 'tableType': 'YQL_TABLE_TYPE',\n",
      " 'tableUUID': '229c8815-2273-4bc5-9396-eaf02eae4a6d'}\n"
     ]
    }
   ],
   "source": [
    "url = f\"/api/v1/customers/{session_info.get('customerUUID')}\" \\\n",
    "      f\"/universes/{universe_uuid}/tables\"\n",
    "conn.request(\"GET\", url, headers=headers)\n",
    "res = conn.getresponse()\n",
    "data = res.read()\n",
    "table_list = json.loads(data)\n",
    "for table in table_list:\n",
    "    if table['tableName'] == table_name:\n",
    "        break\n",
    "pprint(table)"
   ]
  },
  {
   "cell_type": "markdown",
   "metadata": {},
   "source": [
    "### Create one-time (i.e. unscheduled) single table backup"
   ]
  },
  {
   "cell_type": "code",
   "execution_count": 157,
   "metadata": {},
   "outputs": [
    {
     "name": "stdout",
     "output_type": "stream",
     "text": [
      "{\n",
      "  \"actionType\": \"CREATE\",\n",
      "  \"keyspace\": \"ybdemo_keyspace\",\n",
      "  \"tableName\": \"cassandrakeyvalue\",\n",
      "  \"storageConfigUUID\": \"f5cfe9fb-cd4f-46e7-8ed8-af285b730cc0\",\n",
      "  \"timeBeforeDelete\": \"864000000\"\n",
      "}\n",
      "/api/v1/customers/11d78d93-1381-4d1d-8393-ba76f47ba7a6/universes/303cf5ac-a6f5-492b-b68c-7d4d9633c4cc/tables/229c8815-2273-4bc5-9396-eaf02eae4a6d/create_backup\n",
      "{'resourceUUID': 'b72c7308-8654-46ac-9f68-f95ead72f48b',\n",
      " 'taskUUID': 'da65ebca-2010-41ee-a432-0320c46aa931'}\n"
     ]
    }
   ],
   "source": [
    "payload = ('{\\n'\n",
    "           '  \"actionType\": \"CREATE\",\\n'\n",
    "           f'  \"keyspace\": \"{table.get(\"keySpace\")}\",\\n'\n",
    "           f'  \"tableName\": \"{table_name}\",\\n'\n",
    "           f'  \"storageConfigUUID\": \"{storage_config_uuid}\",\\n'\n",
    "           '  \"timeBeforeDelete\": \"864000000\"\\n'\n",
    "           '}')\n",
    "print(payload)\n",
    "url = f\"/api/v1/customers/{session_info.get('customerUUID')}\" \\\n",
    "      f\"/universes/{universe_uuid}/tables/{table['tableUUID']}/create_backup\"\n",
    "print(url)\n",
    "conn.request(\"PUT\", url, payload, headers)\n",
    "\n",
    "res = conn.getresponse()\n",
    "yb_task = json.load(res)\n",
    "pprint(yb_task)"
   ]
  },
  {
   "cell_type": "markdown",
   "metadata": {},
   "source": [
    "### Stop an ongoing backup"
   ]
  },
  {
   "cell_type": "code",
   "execution_count": 158,
   "metadata": {
    "scrolled": true
   },
   "outputs": [
    {
     "name": "stdout",
     "output_type": "stream",
     "text": [
      "/api/v1/customers/11d78d93-1381-4d1d-8393-ba76f47ba7a6/backups/b72c7308-8654-46ac-9f68-f95ead72f48b/stop\n",
      "{'success': False, 'error': 'The process you want to stop is not in progress.'}\n"
     ]
    }
   ],
   "source": [
    "url = f\"/api/v1/customers/{session_info.get('customerUUID')}\" \\\n",
    "      f\"/backups/{yb_task.get('resourceUUID')}/stop\"\n",
    "print(url)\n",
    "conn.request(\"POST\", url, \"{}\", headers=headers)\n",
    "res = conn.getresponse()\n",
    "print(json.loads(res.read()))"
   ]
  },
  {
   "cell_type": "markdown",
   "metadata": {},
   "source": [
    "### Delete a the completed backup"
   ]
  },
  {
   "cell_type": "code",
   "execution_count": 160,
   "metadata": {
    "scrolled": true
   },
   "outputs": [
    {
     "name": "stdout",
     "output_type": "stream",
     "text": [
      "{\n",
      "  \"backupUUID\": [\"b72c7308-8654-46ac-9f68-f95ead72f48b\"]\n",
      "}\n",
      "b'{\"taskUUID\":[\"81ce8e04-35ad-4e38-b5f3-d63b479ce061\"],\"ybpTaskList\":[{\"taskUUID\":\"81ce8e04-35ad-4e38-b5f3-d63b479ce061\",\"resourceUUID\":\"b72c7308-8654-46ac-9f68-f95ead72f48b\"}]}'\n"
     ]
    }
   ],
   "source": [
    "url = f\"/api/v1/customers/{session_info.get('customerUUID')}\" \\\n",
    "      f\"/backups\"\n",
    "payload = ('{\\n'\n",
    "           f'  \"backupUUID\": [\"{yb_task.get(\"resourceUUID\")}\"]\\n'\n",
    "           '}')\n",
    "print(payload)\n",
    "conn.request(\"DELETE\", url, payload, headers=headers)\n",
    "res = conn.getresponse()\n",
    "print(res.read())"
   ]
  },
  {
   "cell_type": "markdown",
   "metadata": {},
   "source": [
    "### Create Scheduled Whole Universe Backup\n",
    "- *schedulingFrequency* (i.e. take backup every) 1 day (86400000 ms) \n",
    "- delete (garbage collect) backup after 10 days (864000000 ms)"
   ]
  },
  {
   "cell_type": "code",
   "execution_count": 165,
   "metadata": {},
   "outputs": [
    {
     "name": "stdout",
     "output_type": "stream",
     "text": [
      "{'customerUUID': '11d78d93-1381-4d1d-8393-ba76f47ba7a6',\n",
      " 'failureCount': 0,\n",
      " 'frequency': 86400000,\n",
      " 'scheduleUUID': '8358152a-bd05-484e-8138-af4ea4b3595b',\n",
      " 'status': 'Active',\n",
      " 'taskParams': {'actionType': 'CREATE',\n",
      "                'backupType': 'PGSQL_TABLE_TYPE',\n",
      "                'communicationPorts': {'masterHttpPort': 7000,\n",
      "                                       'masterRpcPort': 7100,\n",
      "                                       'nodeExporterPort': 9300,\n",
      "                                       'redisServerHttpPort': 11000,\n",
      "                                       'redisServerRpcPort': 6379,\n",
      "                                       'tserverHttpPort': 9000,\n",
      "                                       'tserverRpcPort': 9100,\n",
      "                                       'yqlServerHttpPort': 12000,\n",
      "                                       'yqlServerRpcPort': 9042,\n",
      "                                       'ysqlServerHttpPort': 13000,\n",
      "                                       'ysqlServerRpcPort': 5433},\n",
      "                'customerUUID': '11d78d93-1381-4d1d-8393-ba76f47ba7a6',\n",
      "                'enableVerboseLogs': False,\n",
      "                'encryptionAtRestConfig': {'encryptionAtRestEnabled': False,\n",
      "                                           'opType': 'UNDEFINED',\n",
      "                                           'type': 'DATA_KEY'},\n",
      "                'extraDependencies': {'installNodeExporter': True},\n",
      "                'firstTry': True,\n",
      "                'ignoreErrors': False,\n",
      "                'keyspace': 'postgres',\n",
      "                'nodeExporterUser': 'prometheus',\n",
      "                'parallelism': 8,\n",
      "                'schedulingFrequency': 86400000,\n",
      "                'sourceAsyncReplicationRelationships': [],\n",
      "                'sse': False,\n",
      "                'storageConfigUUID': 'f5cfe9fb-cd4f-46e7-8ed8-af285b730cc0',\n",
      "                'tableUUIDList': [],\n",
      "                'targetAsyncReplicationRelationships': [],\n",
      "                'timeBeforeDelete': 864000000,\n",
      "                'transactionalBackup': False,\n",
      "                'universeUUID': '303cf5ac-a6f5-492b-b68c-7d4d9633c4cc'},\n",
      " 'taskType': 'MultiTableBackup'}\n"
     ]
    }
   ],
   "source": [
    "\n",
    "payload = ('{\\n'\n",
    "           '  \"actionType\": \"CREATE\",\\n'\n",
    "           '  \"keyspace\": \"postgres\",\\n'\n",
    "           f'  \"storageConfigUUID\": \"{storage_config_uuid}\",\\n'\n",
    "           '  \"timeBeforeDelete\": \"864000000\",\\n'\n",
    "           '  \"sse\": \"false\",\\n'\n",
    "           '  \"transactionalBackup\": \"false\",\\n'\n",
    "           '  \"parallelism\": \"8\",\\n'\n",
    "           '  \"schedulingFrequency\": \"86400000\",\\n'\n",
    "           '  \"backupType\": \"PGSQL_TABLE_TYPE\"\\n'\n",
    "           '}')\n",
    "\n",
    "url = f\"/api/v1/customers/{session_info.get('customerUUID')}\" \\\n",
    "      f\"/universes/{universe_uuid}/multi_table_backup\"\n",
    "conn.request(\"PUT\", url, payload, headers)\n",
    "\n",
    "res = conn.getresponse()\n",
    "schedule_info = json.load(res)\n",
    "pprint(schedule_info)"
   ]
  },
  {
   "cell_type": "markdown",
   "metadata": {},
   "source": [
    "### Delete backup Schedule"
   ]
  },
  {
   "cell_type": "code",
   "execution_count": 166,
   "metadata": {
    "scrolled": true
   },
   "outputs": [
    {
     "name": "stdout",
     "output_type": "stream",
     "text": [
      "b'{\"success\":true}'\n"
     ]
    }
   ],
   "source": [
    "url = f\"/api/v1/customers/{session_info.get('customerUUID')}\" \\\n",
    "      f\"/schedules/{schedule_info.get('scheduleUUID')}\"\n",
    "conn.request(\"DELETE\", url, headers=headers)\n",
    "res = conn.getresponse()\n",
    "print(res.read())"
   ]
  }
 ],
 "metadata": {
  "kernelspec": {
   "display_name": "Python 3",
   "language": "python",
   "name": "python3"
  },
  "language_info": {
   "codemirror_mode": {
    "name": "ipython",
    "version": 3
   },
   "file_extension": ".py",
   "mimetype": "text/x-python",
   "name": "python",
   "nbconvert_exporter": "python",
   "pygments_lexer": "ipython3",
   "version": "3.8.5"
  }
 },
 "nbformat": 4,
 "nbformat_minor": 4
}
