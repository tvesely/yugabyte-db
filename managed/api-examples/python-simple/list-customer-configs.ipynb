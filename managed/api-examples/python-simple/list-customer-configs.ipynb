{
 "cells": [
  {
   "cell_type": "markdown",
   "metadata": {},
   "source": [
    "# Listing Configurations\n",
    "# Get session Info\n",
    "- Using API key make a request get associated `session_info` \n",
    "- `session_info` contains current user and current customer uuid."
   ]
  },
  {
   "cell_type": "code",
   "execution_count": 2,
   "metadata": {},
   "outputs": [
    {
     "name": "stdout",
     "output_type": "stream",
     "text": [
      "{'apiToken': '753aef54-8fbb-442d-a063-e41b3a62b7e2',\n",
      " 'customerUUID': '11d78d93-1381-4d1d-8393-ba76f47ba7a6',\n",
      " 'userUUID': '52bce00c-dd1b-dcd7-0821-b8070a7173c5'}\n"
     ]
    }
   ],
   "source": [
    "import http.client\n",
    "import json\n",
    "import os\n",
    "from pprint import pprint\n",
    "\n",
    "platform_address = os.getenv('API_BASE_URL', \"portal.dev.yugabyte.com\")\n",
    "platform_api_key = os.getenv('YB_API_KEY')\n",
    "\n",
    "conn = http.client.HTTPConnection(f\"{platform_address}\")\n",
    "\n",
    "headers = {\n",
    "  'Content-Type': \"application/json\",\n",
    "  'X-AUTH-YW-API-TOKEN': f\"{platform_api_key}\"\n",
    "}\n",
    "\n",
    "conn.request(\"GET\", \"/api/v1/session_info\", headers=headers)\n",
    "\n",
    "res = conn.getresponse()\n",
    "data = res.read()\n",
    "session_info = json.loads(data)\n",
    "pprint(session_info)"
   ]
  },
  {
   "cell_type": "markdown",
   "metadata": {},
   "source": [
    "## List all the configs for current customer. \n",
    "For example, for storing backups in `s3`, `gcs` or `nfs`; you may \n",
    "have various *storage configurations* defined."
   ]
  },
  {
   "cell_type": "code",
   "execution_count": null,
   "metadata": {
    "scrolled": false
   },
   "outputs": [],
   "source": [
    "# Now pick a storage config you want to use to store\n",
    "conn.request(\"GET\",\n",
    "             f\"/api/v1/customers/{session_info.get('customerUUID')}/configs\",\n",
    "             headers=headers)\n",
    "\n",
    "res = conn.getresponse()\n",
    "data = res.read()\n",
    "\n",
    "customer_configs = json.loads(data)\n",
    "pprint(customer_configs)\n"
   ]
  }
 ],
 "metadata": {
  "kernelspec": {
   "display_name": "Python 3",
   "language": "python",
   "name": "python3"
  },
  "language_info": {
   "codemirror_mode": {
    "name": "ipython",
    "version": 3
   },
   "file_extension": ".py",
   "mimetype": "text/x-python",
   "name": "python",
   "nbconvert_exporter": "python",
   "pygments_lexer": "ipython3",
   "version": "3.8.5"
  }
 },
 "nbformat": 4,
 "nbformat_minor": 4
}
