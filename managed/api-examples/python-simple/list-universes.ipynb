{
 "cells": [
  {
   "cell_type": "markdown",
   "source": [
    "### Setup\n",
    "\n",
    "First, import the required packages.\n",
    "\n",
    "Next, specify some important variables:\n",
    "* `platform_address`: The address of the Yugabyte Platform API\n",
    "* `platform_api_key`: The API key used to authenticate with the Platform API\n",
    "\n",
    "Finally, open a HTTP connection to the Yugabyte Platform API."
   ],
   "metadata": {}
  },
  {
   "cell_type": "code",
   "execution_count": null,
   "source": [
    "import os\n",
    "import http.client\n",
    "import json\n",
    "\n",
    "platform_address = 'localhost:9000'\n",
    "platform_api_key = os.getenv('YB_API_KEY')\n",
    "\n",
    "conn = http.client.HTTPConnection(f\"{platform_address}\")\n",
    "\n",
    "headers = {\n",
    "  'Content-Type': \"application/json\",\n",
    "  'X-AUTH-YW-API-TOKEN': f\"{platform_api_key}\"\n",
    "}"
   ],
   "outputs": [],
   "metadata": {}
  },
  {
   "cell_type": "markdown",
   "source": [
    "### Get Session Info\n",
    "\n",
    "Make an API call to session endpoint to determine customer UUID."
   ],
   "metadata": {}
  },
  {
   "cell_type": "code",
   "execution_count": null,
   "source": [
    "conn.request(\"GET\", \"/api/v1/session_info\", headers=headers)\n",
    "\n",
    "res = conn.getresponse()\n",
    "data = res.read()\n",
    "session_info = json.loads(data)\n",
    "customer_uuid = session_info['customerUUID']\n",
    "\n",
    "print('Customer UUID:\\n%s' % customer_uuid)"
   ],
   "outputs": [],
   "metadata": {}
  },
  {
   "cell_type": "markdown",
   "source": [
    "### List Universes\n",
    "\n",
    "Make API call to provider endpoint to list universes."
   ],
   "metadata": {}
  },
  {
   "cell_type": "code",
   "execution_count": null,
   "source": [
    "url = f\"/api/v1/customers/{customer_uuid}/universes\"\n",
    "conn.request(\"GET\", url, headers=headers)\n",
    "res = conn.getresponse()\n",
    "print(json.dumps(json.load(res), indent=2))"
   ],
   "outputs": [],
   "metadata": {}
  }
 ],
 "metadata": {
  "kernelspec": {
   "name": "python3",
   "display_name": "Python 3.8.10 64-bit"
  },
  "language_info": {
   "codemirror_mode": {
    "name": "ipython",
    "version": 3
   },
   "file_extension": ".py",
   "mimetype": "text/x-python",
   "name": "python",
   "nbconvert_exporter": "python",
   "pygments_lexer": "ipython3",
   "version": "3.8.10"
  },
  "interpreter": {
   "hash": "31f2aee4e71d21fbe5cf8b01ff0e069b9275f58929596ceb00d14d90e3e16cd6"
  }
 },
 "nbformat": 4,
 "nbformat_minor": 5
}
