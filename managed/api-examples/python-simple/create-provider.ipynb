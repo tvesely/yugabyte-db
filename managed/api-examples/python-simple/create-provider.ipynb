{
  "cells": [
    {
      "cell_type": "markdown",
      "id": "4ed177d7",
      "metadata": {
        "id": "4ed177d7"
      },
      "source": [
        "# Create Cloud Provider Configuration\n",
        "### Setup\n",
        "\n",
        "First, import the required packages.\n",
        "\n",
        "Next, specify some important variables:\n",
        "* `platform_address`: The address of the Yugabyte Platform API\n",
        "* `platform_api_key`: The API key used to authenticate with the Platform API\n",
        "\n",
        "Finally, open a HTTP connection to the Yugabyte Platform API."
      ]
    },
    {
      "cell_type": "code",
      "execution_count": null,
      "id": "ec0d9934",
      "metadata": {
        "id": "ec0d9934"
      },
      "outputs": [],
      "source": [
        "import configparser\n",
        "import os\n",
        "import http.client\n",
        "import json\n",
        "from pprint import pprint\n",
        "\n",
        "platform_address = os.getenv('API_BASE_URL', \"portal.dev.yugabyte.com\")\n",
        "platform_api_key = os.getenv('YB_API_KEY')\n",
        "\n",
        "conn = http.client.HTTPConnection(f\"{platform_address}\")\n",
        "\n",
        "headers = {\n",
        "  'Content-Type': \"application/json\",\n",
        "  'X-AUTH-YW-API-TOKEN': f\"{platform_api_key}\"\n",
        "}"
      ]
    },
    {
      "cell_type": "markdown",
      "id": "c62facfb",
      "metadata": {
        "id": "c62facfb"
      },
      "source": [
        "### Get Session Info\n",
        "\n",
        "Make an API call to session endpoint to determine customer UUID."
      ]
    },
    {
      "cell_type": "code",
      "execution_count": null,
      "id": "7870be61",
      "metadata": {
        "id": "7870be61"
      },
      "outputs": [],
      "source": [
        "conn.request(\"GET\", \"/api/v1/session_info\", headers=headers)\n",
        "\n",
        "res = conn.getresponse()\n",
        "data = res.read()\n",
        "session_info = json.loads(data)\n",
        "customer_uuid = session_info['customerUUID']\n",
        "\n",
        "print('Customer UUID:\\n%s' % customer_uuid)"
      ]
    },
    {
      "cell_type": "markdown",
      "id": "3f1a9a65",
      "metadata": {
        "id": "3f1a9a65"
      },
      "source": [
        "## GCP Provider\n",
        "### Define GCP Provider\n",
        "\n",
        "In this example, we will create a GCP provider. First, load in GCP service account credentials JSON file. Then, define a `Provider` object with the credentials and desired configuration."
      ]
    },
    {
      "cell_type": "code",
      "execution_count": null,
      "id": "3c1a4c37",
      "metadata": {
        "id": "3c1a4c37"
      },
      "outputs": [],
      "source": [
        "gcp_creds_filename = os.getenv('GCE_CREDENTIALS_FILE_PATH')\n",
        "gcp_creds_file = open(gcp_creds_filename, 'r')\n",
        "gcp_creds = json.loads(gcp_creds_file.read())\n",
        "\n",
        "new_provider = {\n",
        "    \"code\": \"gcp\",\n",
        "    \"config\": {\n",
        "        **gcp_creds,\n",
        "        \"YB_FIREWALL_TAGS\": \"cluster-server\",\n",
        "    },\n",
        "    \"destVpcId\": \"yugabyte-network\",\n",
        "    \"name\": \"my-gcp-provider\",\n",
        "    \"regions\": [\n",
        "        {\n",
        "            \"code\": \"us-central1\",\n",
        "            \"name\": \"us-central1\",\n",
        "            \"zones\": [],\n",
        "        },\n",
        "    ],\n",
        "    \"sshPort\": 54422,\n",
        "    \"airGapInstall\": False,\n",
        "}"
      ]
    },
    {
      "cell_type": "markdown",
      "id": "c4ddba92",
      "metadata": {
        "id": "c4ddba92"
      },
      "source": [
        "### Create Provider\n",
        "\n",
        "Make API call to provider endpoint to create new provider."
      ]
    },
    {
      "cell_type": "code",
      "execution_count": null,
      "id": "486892d8",
      "metadata": {
        "id": "486892d8"
      },
      "outputs": [],
      "source": [
        "url = f\"/api/v1/customers/{customer_uuid}/providers\"\n",
        "conn.request(\"POST\", url, json.dumps(new_provider), headers)\n",
        "res = conn.getresponse()\n",
        "print(json.dumps(json.load(res), indent=2))"
      ]
    },
    {
      "cell_type": "markdown",
      "id": "42564ceb",
      "metadata": {
        "id": "42564ceb"
      },
      "source": [
        "## AWS Provider\n",
        "### Define AWS Provider\n",
        "\n",
        "In this example, we will create an AWS provider. You need to have set `AWS_ACCESS_KEY_ID` and `AWS_SECRET_ACCESS_KEY` environment variables."
      ]
    },
    {
      "cell_type": "code",
      "execution_count": null,
      "id": "f9ee71b1",
      "metadata": {
        "id": "f9ee71b1"
      },
      "outputs": [],
      "source": [
        "config = configparser.RawConfigParser()\n",
        "config.read(os.path.expanduser('~/.aws/credentials'))\n",
        "# print (config.sections())\n",
        "new_provider = {\n",
        "  \"code\": \"aws\",\n",
        "  \"name\": \"my-aws-provider\",\n",
        "  \"config\": {\n",
        "    \"AWS_ACCESS_KEY_ID\": f\"{config.get('default', 'aws_access_key_id')}\",\n",
        "    \"AWS_SECRET_ACCESS_KEY\": f\"{config.get('default', 'aws_secret_access_key')}\"\n",
        "  },\n",
        "  \"regions\": [\n",
        "      {\n",
        "          \"code\": \"us-west-2\",\n",
        "          \"name\": \"us-west-2\",\n",
        "          \"zones\": [],\n",
        "      },\n",
        "  ]\n",
        "}\n",
        "#pprint(new_provider)"
      ]
    },
    {
      "cell_type": "markdown",
      "id": "f6987312",
      "metadata": {
        "id": "f6987312"
      },
      "source": [
        "### Create Provider\n",
        "\n",
        "Make API call to provider endpoint to create new provider."
      ]
    },
    {
      "cell_type": "code",
      "execution_count": null,
      "id": "93a0f844",
      "metadata": {
        "id": "93a0f844",
        "outputId": "a8e91b61-4027-496f-db4a-d52eb5fd4100"
      },
      "outputs": [],
      "source": [
        "url = f\"/api/v1/customers/{customer_uuid}/providers\"\n",
        "conn.request(\"POST\", url, json.dumps(new_provider), headers)\n",
        "res = conn.getresponse()\n",
        "pprint(json.load(res))"
      ]
    },
    {
      "cell_type": "markdown",
      "id": "a35b2474",
      "metadata": {},
      "source": [
        "## Azure Provider\n",
        "### Define Azure Provider\n",
        "\n",
        "In this example, we will create a GCP provider. You need to have set `AZURE_CLIENT_ID`, `AZURE_CLIENT_SECRET`, `AZURE_TENANT_ID`, `AZURE_SUBSCRIPTION_ID`, and `AZURE_RG` environment variables."
      ]
    },
    {
      "cell_type": "code",
      "execution_count": null,
      "id": "a13a4d8c",
      "metadata": {},
      "outputs": [],
      "source": [
        "\n",
        "new_provider = {\n",
        "  \"code\": \"azu\",\n",
        "  \"name\": \"my-azu-provider\",\n",
        "  \"config\": {\n",
        "    \"AZURE_CLIENT_ID\": f\"{os.getenv('AZURE_CLIENT_ID')}\",\n",
        "    \"AZURE_CLIENT_SECRET\": f\"{os.getenv('AZURE_CLIENT_SECRET')}\",\n",
        "    \"AZURE_TENANT_ID\": f\"{os.getenv('AZURE_TENANT_ID')}\",\n",
        "    \"AZURE_SUBSCRIPTION_ID\": f\"{os.getenv('AZURE_SUBSCRIPTION_ID')}\",\n",
        "    \"AZURE_RG\": f\"{os.getenv('AZURE_RG')}\"\n",
        "  },\n",
        "  \"regions\": [\n",
        "    {\n",
        "      \"code\": \"westus2\",\n",
        "      \"vNetName\": \"yugabyte-vnet-us-west2\",\n",
        "      \"zones\": [\n",
        "        {\n",
        "          \"name\": \"westus2-1\",\n",
        "          \"subnet\": \"yugabyte-subnet-westus2\"\n",
        "        },\n",
        "        {\n",
        "          \"name\": \"westus2-2\",\n",
        "          \"subnet\": \"yugabyte-subnet-westus2\"\n",
        "        },\n",
        "        {\n",
        "          \"name\": \"westus2-3\",\n",
        "          \"subnet\": \"yugabyte-subnet-westus2\"\n",
        "        }\n",
        "      ]\n",
        "    },\n",
        "  ]\n",
        "}\n",
        "#pprint(new_provider)"
      ]
    },
    {
      "cell_type": "markdown",
      "id": "e6ac9fb3",
      "metadata": {},
      "source": [
        "### Create Provider\n",
        "\n",
        "Make API call to provider endpoint to create new provider."
      ]
    },
    {
      "cell_type": "code",
      "execution_count": null,
      "id": "9a33b370",
      "metadata": {},
      "outputs": [],
      "source": [
        "url = f\"/api/v1/customers/{customer_uuid}/providers\"\n",
        "conn.request(\"POST\", url, json.dumps(new_provider), headers)\n",
        "res = conn.getresponse()\n",
        "pprint(json.load(res))"
      ]
    },
    {
      "cell_type": "markdown",
      "id": "EeeOxE8-rIc8",
      "metadata": {
        "id": "EeeOxE8-rIc8"
      },
      "source": [
        "## Onprem Provider\n",
        "### Define Onprem Provider\n",
        "\n",
        "In this example, we will create a Onprem provider. You will need to have a VM instance for db node and ssh config details for the db node instance."
      ]
    },
    {
      "cell_type": "markdown",
      "id": "jpdgBKOvrzPU",
      "metadata": {
        "id": "jpdgBKOvrzPU"
      },
      "source": [
        "### Create Provider\n",
        "\n",
        "Make API call to providers UI endpoint."
      ]
    },
    {
      "cell_type": "code",
      "execution_count": null,
      "id": "s9a3P0qPwHb-",
      "metadata": {
        "id": "s9a3P0qPwHb-"
      },
      "outputs": [],
      "source": [
        "provider_ui = {\n",
        "    \"code\": \"onprem\",\n",
        "    \"name\": \"onprem-provider-1\",\n",
        "    \"config\": {}\n",
        "}\n",
        "# pprint(provider_ui)"
      ]
    },
    {
      "cell_type": "code",
      "execution_count": null,
      "id": "IwJ-xQ2or2Uh",
      "metadata": {
        "id": "IwJ-xQ2or2Uh"
      },
      "outputs": [],
      "source": [
        "url = f\"/api/v1/customers/{customer_uuid}/providers/ui\"\n",
        "conn.request(\"POST\", url, json.dumps(provider_ui), headers)\n",
        "res = conn.getresponse()\n",
        "ui_response = json.load(res)\n",
        "# pprint(ui_response)\n",
        "provider_uuid = ui_response[\"uuid\"]"
      ]
    },
    {
      "cell_type": "markdown",
      "id": "eEdnLjMYuOp7",
      "metadata": {
        "id": "eEdnLjMYuOp7"
      },
      "source": [
        "Make API call to providers instance types endpoint."
      ]
    },
    {
      "cell_type": "code",
      "execution_count": null,
      "id": "GHrMhcNQwaND",
      "metadata": {
        "id": "GHrMhcNQwaND"
      },
      "outputs": [],
      "source": [
        "\n",
        "provider_instance_types = {\n",
        "    \"idKey\": {\n",
        "        \"providerCode\": \"onprem\",\n",
        "        \"instanceTypeCode\": \"c5.large\"\n",
        "    },\n",
        "    \"numCores\": \"2\",\n",
        "    \"memSizeGB\": \"4\",\n",
        "    \"instanceTypeDetails\": {\n",
        "        \"volumeDetailsList\": [\n",
        "            {\"volumeSizeGB\": \"16\",\n",
        "             \"mountPath\": \"/data\"\n",
        "             }\n",
        "        ]\n",
        "    }\n",
        "}\n",
        "# pprint(provider_instance_types)"
      ]
    },
    {
      "cell_type": "code",
      "execution_count": null,
      "id": "E-SOMPzKuPZx",
      "metadata": {
        "id": "E-SOMPzKuPZx"
      },
      "outputs": [],
      "source": [
        "url = f\"/api/v1/customers/{customer_uuid}/providers/{provider_uuid}/instance_types\"\n",
        "conn.request(\"POST\", url, json.dumps(provider_instance_types), headers)\n",
        "res = conn.getresponse()\n",
        "# pprint(json.load(res))"
      ]
    },
    {
      "cell_type": "markdown",
      "id": "zoFEqGxquPx2",
      "metadata": {
        "id": "zoFEqGxquPx2"
      },
      "source": [
        "Make API call to providers regions endpoint."
      ]
    },
    {
      "cell_type": "code",
      "execution_count": null,
      "id": "CNE5IeB5was5",
      "metadata": {
        "id": "CNE5IeB5was5"
      },
      "outputs": [],
      "source": [
        "provider_regions = {\n",
        "    \"code\": \"us-west-2\",\n",
        "    \"hostVPCId\": \"\",\n",
        "    \"name\": \"us-west-2\",\n",
        "    \"latitude\": \"37\",\n",
        "    \"longitude\": \"-121\"\n",
        "}\n",
        "# pprint(provider_regions)"
      ]
    },
    {
      "cell_type": "code",
      "execution_count": null,
      "id": "Dl6esbVkuQJ6",
      "metadata": {
        "id": "Dl6esbVkuQJ6"
      },
      "outputs": [],
      "source": [
        "url = f\"/api/v1/customers/{customer_uuid}/providers/{provider_uuid}/regions\"\n",
        "conn.request(\"POST\", url, json.dumps(provider_regions), headers)\n",
        "res = conn.getresponse()\n",
        "regions_response = json.load(res)\n",
        "# pprint(regions_response)\n",
        "region_uuid = regions_response[\"uuid\"]"
      ]
    },
    {
      "cell_type": "markdown",
      "id": "OI0gOsG8uQmC",
      "metadata": {
        "id": "OI0gOsG8uQmC"
      },
      "source": [
        "Make API call to providers zones endpoint."
      ]
    },
    {
      "cell_type": "code",
      "execution_count": null,
      "id": "WMDuO4kSwbV0",
      "metadata": {
        "id": "WMDuO4kSwbV0"
      },
      "outputs": [],
      "source": [
        "provider_zones = {\n",
        "    \"availabilityZones\": [\n",
        "        {\n",
        "            \"code\": \"west1\",\n",
        "            \"name\": \"west1\"\n",
        "        }\n",
        "    ]\n",
        "}\n",
        "# pprint(provider_zones)"
      ]
    },
    {
      "cell_type": "code",
      "execution_count": null,
      "id": "ouaw5C3vuRDC",
      "metadata": {
        "id": "ouaw5C3vuRDC"
      },
      "outputs": [],
      "source": [
        "url = f\"/api/v1/customers/{customer_uuid}/providers/{provider_uuid}/regions/{region_uuid}/zones\"\n",
        "conn.request(\"POST\", url, json.dumps(provider_zones), headers)\n",
        "res = conn.getresponse()\n",
        "zones_response = json.load(res)\n",
        "# pprint(zones_response)\n",
        "zone_uuid = zones_response[\"west1\"][\"uuid\"]"
      ]
    },
    {
      "cell_type": "markdown",
      "id": "Wzv1ybvjuoQD",
      "metadata": {
        "id": "Wzv1ybvjuoQD"
      },
      "source": [
        "Make API call to providers access keys endpoint."
      ]
    },
    {
      "cell_type": "code",
      "execution_count": null,
      "id": "alcmgbqcwbxb",
      "metadata": {
        "id": "alcmgbqcwbxb"
      },
      "outputs": [],
      "source": [
        "\n",
        "HOME_DIR = os.path.expanduser(\"~\")\n",
        "key_file_path = os.path.join(HOME_DIR, '.yugabyte/yb-dev-aws-2.pem')\n",
        "with open(key_file_path, \"r\") as f_in:\n",
        "    key_file = f_in.read()\n",
        "    provider_access_keys = {\n",
        "        \"keyCode\": \"onprem-provider-1-key\",\n",
        "        \"regionUUID\": region_uuid,\n",
        "        \"keyType\": \"PRIVATE\",\n",
        "        \"keyContent\": key_file,\n",
        "        \"sshUser\": \"centos\",\n",
        "        \"sshPort\": 22,\n",
        "        \"airGapInstall\": False,\n",
        "        \"installNodeExporter\": True,\n",
        "        \"nodeExporterUser\": \"prometheus\",\n",
        "        \"nodeExporterPort\": 9300,\n",
        "        \"skipProvisioning\": False,\n",
        "        \"ntpServers\": [],\n",
        "        \"setUpChrony\": False\n",
        "    }"
      ]
    },
    {
      "cell_type": "code",
      "execution_count": null,
      "id": "NuRdEIgNuseP",
      "metadata": {
        "id": "NuRdEIgNuseP"
      },
      "outputs": [],
      "source": [
        "url = f\"/api/v1/customers/{customer_uuid}/providers/{provider_uuid}/access_keys\"\n",
        "conn.request(\"POST\", url, json.dumps(provider_access_keys), headers)\n",
        "res = conn.getresponse()\n",
        "# pprint(json.load(res))"
      ]
    },
    {
      "attachments": {},
      "cell_type": "markdown",
      "id": "46211592",
      "metadata": {},
      "source": [
        "Make API call to providers add node endpoint."
      ]
    },
    {
      "cell_type": "code",
      "execution_count": null,
      "id": "cce461eb",
      "metadata": {},
      "outputs": [],
      "source": [
        "provider_add_node = {\n",
        "    \"nodes\": [{ \n",
        "        \"zone\": \"west1\",\n",
        "        \"region\": \"us-west-2\",\n",
        "        \"ip\": \"10.9.139.92\",\n",
        "        \"instanceType\": \"c5.large\",\n",
        "        \"sshUser\": \"centos\",\n",
        "        \"sshPort\": 22,\n",
        "        \"instanceName\": \"onprem-n1\"\n",
        "    }]\n",
        "}"
      ]
    },
    {
      "cell_type": "code",
      "execution_count": null,
      "id": "e3d785a6",
      "metadata": {},
      "outputs": [],
      "source": [
        "url = f\"/api/v1/customers/{customer_uuid}/zones/{zone_uuid}/nodes\"\n",
        "conn.request(\"POST\", url, json.dumps(provider_access_keys), headers)\n",
        "res = conn.getresponse()\n",
        "# pprint(json.load(res))"
      ]
    }
  ],
  "metadata": {
    "interpreter": {
      "hash": "31f2aee4e71d21fbe5cf8b01ff0e069b9275f58929596ceb00d14d90e3e16cd6"
    },
    "kernelspec": {
      "display_name": "Python 3 (ipykernel)",
      "language": "python",
      "name": "python3"
    },
    "language_info": {
      "codemirror_mode": {
        "name": "ipython",
        "version": 3
      },
      "file_extension": ".py",
      "mimetype": "text/x-python",
      "name": "python",
      "nbconvert_exporter": "python",
      "pygments_lexer": "ipython3",
      "version": "3.8.5"
    }
  },
  "nbformat": 4,
  "nbformat_minor": 5
}
