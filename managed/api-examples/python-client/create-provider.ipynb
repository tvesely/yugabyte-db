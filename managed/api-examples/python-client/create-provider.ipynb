{
 "cells": [
  {
   "cell_type": "markdown",
   "source": [
    "### Setup\n",
    "\n",
    "First, import the required packages.\n",
    "\n",
    "Next, specify some important variables:\n",
    "* `platform_address`: The address of the Yugabyte Platform API\n",
    "* `platform_api_key`: The API key used to authenticate with the Platform API\n",
    "\n",
    "Finally, create the Yugabyte Platform API client object."
   ],
   "metadata": {}
  },
  {
   "cell_type": "code",
   "execution_count": null,
   "source": [
    "import os\n",
    "import yb_platform_client\n",
    "from yb_platform_client.api import provider_api, session_api\n",
    "from yb_platform_client.model.provider import Provider\n",
    "from yb_platform_client.model.region import Region\n",
    "from pprint import pprint\n",
    "\n",
    "platform_address = 'http://localhost:9000'\n",
    "platform_api_key = os.getenv('YB_API_KEY')\n",
    "\n",
    "api_client = yb_platform_client.ApiClient(yb_platform_client.Configuration(\n",
    "    host = platform_address,\n",
    "    api_key = {\n",
    "        'apiKeyAuth': platform_api_key,\n",
    "    }\n",
    "))"
   ],
   "outputs": [],
   "metadata": {}
  },
  {
   "cell_type": "markdown",
   "source": [
    "### Get Session Info\n",
    "\n",
    "Make an API call to session endpoint to determine customer UUID."
   ],
   "metadata": {}
  },
  {
   "cell_type": "code",
   "execution_count": null,
   "source": [
    "session_api = session_api.SessionApi(api_client)\n",
    "\n",
    "try:\n",
    "    session_info = session_api.get_session_info()\n",
    "except yb_platform_client.ApiException as e:\n",
    "    print(\"Error get_session_info: %s\" % e)\n",
    "    raise\n",
    "\n",
    "customer_uuid = session_info.get('customer_uuid')\n",
    "print('Customer UUID:\\n%s' % customer_uuid)"
   ],
   "outputs": [],
   "metadata": {}
  },
  {
   "cell_type": "markdown",
   "source": [
    "### Define Provider\n",
    "\n",
    "In this example, we will create a GCP provider. First, load in GCP service account credentials JSON file. Then, define a `Provider` object with the credentials and desired configuration."
   ],
   "metadata": {}
  },
  {
   "cell_type": "code",
   "execution_count": null,
   "source": [
    "import json\n",
    "\n",
    "gcp_creds_filename = os.getenv('GCE_CREDENTIALS_FILE_PATH')\n",
    "gcp_creds_file = open(gcp_creds_filename, 'r')\n",
    "gcp_creds = json.loads(gcp_creds_file.read())\n",
    "\n",
    "new_provider = Provider(\n",
    "    code=\"gcp\",\n",
    "    config={\n",
    "        **gcp_creds,\n",
    "        \"YB_FIREWALL_TAGS\": \"cluster-server\",\n",
    "    },\n",
    "    dest_vpc_id=\"yugabyte-network\",\n",
    "    name=\"my-gcp-provider\",\n",
    "    regions=[\n",
    "        Region(\n",
    "            code=\"us-central1\",\n",
    "            name=\"us-central1\",\n",
    "            zones=[],\n",
    "        ),\n",
    "    ],\n",
    "    ssh_port=54422,\n",
    "    air_gap_install=False,\n",
    ")"
   ],
   "outputs": [],
   "metadata": {}
  },
  {
   "cell_type": "markdown",
   "source": [
    "### Create Provider\n",
    "\n",
    "Make API call to provider endpoint to create new provider."
   ],
   "metadata": {}
  },
  {
   "cell_type": "code",
   "execution_count": null,
   "source": [
    "provider_api = provider_api.ProviderApi(api_client)\n",
    "\n",
    "try:\n",
    "    api_response = provider_api.create_providers(customer_uuid, new_provider)\n",
    "except yb_platform_client.ApiException as e:\n",
    "    print('Error create_providers: %s' % e)\n",
    "    raise\n",
    "\n",
    "pprint(api_response)"
   ],
   "outputs": [],
   "metadata": {}
  }
 ],
 "metadata": {
  "interpreter": {
   "hash": "57f28aa4ce40fd00633621e172c0b6004aa3a4c49cc0dd486e1853a51500889f"
  },
  "kernelspec": {
   "name": "python3",
   "display_name": "Python 3.8.10 64-bit ('venv')"
  },
  "language_info": {
   "codemirror_mode": {
    "name": "ipython",
    "version": 3
   },
   "file_extension": ".py",
   "mimetype": "text/x-python",
   "name": "python",
   "nbconvert_exporter": "python",
   "pygments_lexer": "ipython3",
   "version": "3.8.10"
  }
 },
 "nbformat": 4,
 "nbformat_minor": 5
}
