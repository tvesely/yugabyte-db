{
 "cells": [
  {
   "cell_type": "markdown",
   "source": [
    "### Setup\n",
    "\n",
    "First, import the required packages.\n",
    "\n",
    "Next, specify some important variables:\n",
    "* `platform_address`: The address of the Yugabyte Platform API\n",
    "* `platform_api_key`: The API key used to authenticate with the Platform API\n",
    "\n",
    "Finally, create the Yugabyte Platform API client object."
   ],
   "metadata": {}
  },
  {
   "cell_type": "code",
   "execution_count": null,
   "source": [
    "import os\n",
    "import yb_platform_client\n",
    "from yb_platform_client.api import access_keys_api\n",
    "from yb_platform_client.api import provider_api\n",
    "from yb_platform_client.api import session_api\n",
    "from yb_platform_client.api import universe_cluster_mutations_api\n",
    "from yb_platform_client.model.universe_configure_task_params \\\n",
    "    import UniverseConfigureTaskParams\n",
    "from yb_platform_client.model.cluster import Cluster\n",
    "from yb_platform_client.model.device_info import DeviceInfo\n",
    "from yb_platform_client.model.provider import Provider\n",
    "from yb_platform_client.model.user_intent import UserIntent\n",
    "from pprint import pprint\n",
    "\n",
    "platform_address = 'http://localhost:9000'\n",
    "platform_api_key = os.getenv('YB_API_KEY')\n",
    "\n",
    "api_client = yb_platform_client.ApiClient(yb_platform_client.Configuration(\n",
    "    host = platform_address,\n",
    "    api_key = {\n",
    "        'apiKeyAuth': platform_api_key,\n",
    "    }\n",
    "))"
   ],
   "outputs": [],
   "metadata": {}
  },
  {
   "cell_type": "markdown",
   "source": [
    "### Get Session Info\n",
    "\n",
    "Make an API call to session endpoint to determine customer UUID."
   ],
   "metadata": {}
  },
  {
   "cell_type": "code",
   "execution_count": null,
   "source": [
    "session_api = session_api.SessionApi(api_client)\n",
    "\n",
    "try:\n",
    "    session_info = session_api.get_session_info()\n",
    "except yb_platform_client.ApiException as e:\n",
    "    print(\"Error get_session_info: %s\" % e)\n",
    "    raise\n",
    "\n",
    "customer_uuid = session_info.get('customer_uuid')\n",
    "print('Customer UUID:\\n%s' % customer_uuid)"
   ],
   "outputs": [],
   "metadata": {}
  },
  {
   "cell_type": "markdown",
   "source": [
    "### Get Provider UUID\n",
    "\n",
    "Make an API call to the provider endpoint to determine provider UUID and regions."
   ],
   "metadata": {}
  },
  {
   "cell_type": "code",
   "execution_count": null,
   "source": [
    "provider_api = provider_api.ProviderApi(api_client)\n",
    "\n",
    "try:\n",
    "    provider_list = provider_api.get_list_of_providers(customer_uuid)\n",
    "except yb_platform_client.ApiException as e:\n",
    "    print('Error get_list_of_providers: %s' % e)\n",
    "    raise\n",
    "\n",
    "for provider in provider_list:\n",
    "    if provider.code == 'gcp' and provider.name == 'my-gcp-provider':\n",
    "        provider_uuid = provider.uuid\n",
    "        region_list = [region.uuid for region in provider.regions]\n",
    "        break\n",
    "\n",
    "print('Provider UUID:\\n%s' % provider_uuid)\n",
    "print('Regions:\\n[%s]' % ', '.join(region_list))"
   ],
   "outputs": [],
   "metadata": {}
  },
  {
   "cell_type": "markdown",
   "source": [
    "### Get Access Key\n",
    "\n",
    "Make an API call to the access key endpoint to determine access key for provider."
   ],
   "metadata": {}
  },
  {
   "cell_type": "code",
   "execution_count": null,
   "source": [
    "access_keys_api = access_keys_api.AccessKeysApi(api_client)\n",
    "\n",
    "try:\n",
    "    access_key_list = access_keys_api.list(customer_uuid, provider_uuid)\n",
    "except yb_platform_client.ApiException as e:\n",
    "    print('Error access key list: %s' % e)\n",
    "    raise\n",
    "\n",
    "access_key_code = access_key_list[0]['id_key']['key_code']\n",
    "print('Access Key:\\n%s' % access_key_code)"
   ],
   "outputs": [],
   "metadata": {}
  },
  {
   "cell_type": "markdown",
   "source": [
    "### Define Universe\n",
    "\n",
    "In this example, we will create a GCP universe. Define a `Universe` object with the desired configuration."
   ],
   "metadata": {}
  },
  {
   "cell_type": "code",
   "execution_count": null,
   "source": [
    "new_universe = UniverseConfigureTaskParams(\n",
    "    clusters=[\n",
    "        Cluster(\n",
    "            cluster_type='PRIMARY',\n",
    "            user_intent=UserIntent(\n",
    "                universe_name='my-gcp-universe',\n",
    "                provider_type='gcp',\n",
    "                provider=provider_uuid,\n",
    "                region_list=region_list,\n",
    "                num_nodes=3,\n",
    "                replication_factor=3,\n",
    "                instance_type='n1-standard-1',\n",
    "                device_info=DeviceInfo(\n",
    "                    num_volumes=1,\n",
    "                    storage_type='Persistent',\n",
    "                    volume_size=375,\n",
    "                ),\n",
    "                assign_public_ip=True,\n",
    "                use_time_sync=True,\n",
    "                enable_ysql=True,\n",
    "                enable_yedis=False,\n",
    "                enable_node_to_node_encrypt=True,\n",
    "                enable_client_to_node_encrypt=True,\n",
    "                enable_volume_encryption=False,\n",
    "                yb_software_version='2.7.3.0-b80',\n",
    "                access_key_code=access_key_code,\n",
    "                tserver_g_flags={},\n",
    "                master_g_flags={},\n",
    "            )\n",
    "        ),\n",
    "    ],\n",
    ")"
   ],
   "outputs": [],
   "metadata": {
    "tags": []
   }
  },
  {
   "cell_type": "markdown",
   "source": [
    "### Create Universe\n",
    "\n",
    "Make API call to create new universe."
   ],
   "metadata": {}
  },
  {
   "cell_type": "code",
   "execution_count": null,
   "source": [
    "universe_api = universe_cluster_mutations_api.UniverseClusterMutationsApi(api_client)\n",
    "\n",
    "try:\n",
    "    api_response = universe_api.create_all_clusters(customer_uuid, new_universe)\n",
    "except yb_platform_client.ApiException as e:\n",
    "    print('Error create_all_clusters: %s' % e)\n",
    "    raise\n",
    "\n",
    "pprint(api_response)"
   ],
   "outputs": [],
   "metadata": {}
  }
 ],
 "metadata": {
  "interpreter": {
   "hash": "57f28aa4ce40fd00633621e172c0b6004aa3a4c49cc0dd486e1853a51500889f"
  },
  "kernelspec": {
   "name": "python3",
   "display_name": "Python 3.8.10 64-bit ('venv')"
  },
  "language_info": {
   "codemirror_mode": {
    "name": "ipython",
    "version": 3
   },
   "file_extension": ".py",
   "mimetype": "text/x-python",
   "name": "python",
   "nbconvert_exporter": "python",
   "pygments_lexer": "ipython3",
   "version": "3.8.10"
  }
 },
 "nbformat": 4,
 "nbformat_minor": 5
}
