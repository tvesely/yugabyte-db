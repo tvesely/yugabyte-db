{
 "cells": [
  {
   "cell_type": "markdown",
   "source": [
    "### Setup\n",
    "\n",
    "First, import the required packages.\n",
    "\n",
    "Next, specify some important variables:\n",
    "* `platform_address`: The address of the Yugabyte Platform API\n",
    "* `platform_api_key`: The API key used to authenticate with the Platform API\n",
    "\n",
    "Finally, create the Yugabyte Platform API client object."
   ],
   "metadata": {}
  },
  {
   "cell_type": "code",
   "execution_count": null,
   "source": [
    "import os\n",
    "import yb_platform_client\n",
    "from yb_platform_client.api import universe_api, session_api\n",
    "\n",
    "platform_address = 'http://localhost:9000'\n",
    "platform_api_key = os.getenv('YB_API_KEY')\n",
    "\n",
    "api_client = yb_platform_client.ApiClient(yb_platform_client.Configuration(\n",
    "    host = platform_address,\n",
    "    api_key = {\n",
    "        'apiKeyAuth': platform_api_key,\n",
    "    }\n",
    "))"
   ],
   "outputs": [],
   "metadata": {}
  },
  {
   "cell_type": "markdown",
   "source": [
    "### Get Session Info\n",
    "\n",
    "Make an API call to session endpoint to determine customer UUID."
   ],
   "metadata": {}
  },
  {
   "cell_type": "code",
   "execution_count": null,
   "source": [
    "session_api = session_api.SessionApi(api_client)\n",
    "\n",
    "try:\n",
    "    session_info = session_api.get_session_info()\n",
    "except yb_platform_client.ApiException as e:\n",
    "    print(\"Error get_session_info: %s\" % e)\n",
    "    raise\n",
    "\n",
    "customer_uuid = session_info.get('customer_uuid')\n",
    "print('Customer UUID:\\n%s' % customer_uuid)"
   ],
   "outputs": [],
   "metadata": {}
  },
  {
   "cell_type": "markdown",
   "source": [
    "### List Universes\n",
    "\n",
    "Make API call to provider endpoint to list universes."
   ],
   "metadata": {}
  },
  {
   "cell_type": "code",
   "execution_count": null,
   "source": [
    "universe_api = universe_api.UniverseApi(api_client)\n",
    "\n",
    "try:\n",
    "    universe_list = universe_api.get_list_of_universes(customer_uuid)\n",
    "except yb_platform_client.ApiException as e:\n",
    "    print('Error get_list_of_universes: %s' % e)\n",
    "    raise\n",
    "\n",
    "print('Universes:\\n%s' % universe_list)"
   ],
   "outputs": [],
   "metadata": {}
  }
 ],
 "metadata": {
  "interpreter": {
   "hash": "57f28aa4ce40fd00633621e172c0b6004aa3a4c49cc0dd486e1853a51500889f"
  },
  "kernelspec": {
   "name": "python3",
   "display_name": "Python 3.8.10 64-bit ('venv')"
  },
  "language_info": {
   "codemirror_mode": {
    "name": "ipython",
    "version": 3
   },
   "file_extension": ".py",
   "mimetype": "text/x-python",
   "name": "python",
   "nbconvert_exporter": "python",
   "pygments_lexer": "ipython3",
   "version": "3.8.10"
  }
 },
 "nbformat": 4,
 "nbformat_minor": 5
}
